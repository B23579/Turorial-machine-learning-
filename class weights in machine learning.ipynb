{
 "cells": [
  {
   "cell_type": "markdown",
   "id": "93af7c24",
   "metadata": {},
   "source": [
    "Let's consider we have a classification problem where we have 10 patients classify as stroke and 2 people classify as non stroke. "
   ]
  },
  {
   "cell_type": "code",
   "execution_count": 1,
   "id": "a01b50a4",
   "metadata": {},
   "outputs": [
    {
     "name": "stdout",
     "output_type": "stream",
     "text": [
      "cpu\n"
     ]
    }
   ],
   "source": [
    "import torch \n",
    "import torch.nn as nn\n",
    "import math\n",
    "device =torch.device('cuda:0' if torch.cuda.is_available() else 'cpu')\n",
    "print(device)"
   ]
  },
  {
   "cell_type": "markdown",
   "id": "9b841956",
   "metadata": {},
   "source": [
    "\n",
    "Class weights :\n",
    "\n",
    "**w0** = $\\frac{10}{8\\times 2}=0.625$ where 2 is the number of class (0 and 1), 8 number of non stroke\n",
    "\n",
    "**w1** = $\\frac{10}{2\\times 2}=2.5$ where 2 is the number of class (0 and 1)\n",
    "\n",
    "\n",
    "The loss function with weights is given by: \n",
    "\n",
    "$Log loss = -\\frac{1}{N} \\sum_i^N y_i \\log(\\hat{y_i}) + (1 - y_i) \\log(1-\\hat{y_i})$ \n",
    "\n",
    "with the weights we have:  \n",
    "\n",
    "$Log loss = -\\frac{1}{N} \\sum_i^N w_1\\times y_i \\log(\\hat{y_i}) + w_0 \\times (1 - y_i) \\log(1-\\hat{y_i})$ \n",
    "\n"
   ]
  },
  {
   "cell_type": "code",
   "execution_count": 145,
   "id": "7d61f0bc",
   "metadata": {},
   "outputs": [],
   "source": [
    "weights = [10/(2*8),10/(4)]"
   ]
  },
  {
   "cell_type": "code",
   "execution_count": 146,
   "id": "f3fc26c4",
   "metadata": {},
   "outputs": [
    {
     "data": {
      "text/plain": [
       "tensor([0.6250, 2.5000])"
      ]
     },
     "execution_count": 146,
     "metadata": {},
     "output_type": "execute_result"
    }
   ],
   "source": [
    "class_weights = torch.FloatTensor(weights).to(device)\n",
    "class_weights"
   ]
  },
  {
   "cell_type": "code",
   "execution_count": 153,
   "id": "556a3ea4",
   "metadata": {},
   "outputs": [],
   "source": [
    "Loss = nn.CrossEntropyLoss(weight=class_weights)\n",
    "Loss2=nn.BCELoss(weight=class_weights)"
   ]
  },
  {
   "cell_type": "code",
   "execution_count": 167,
   "id": "f722ce57",
   "metadata": {},
   "outputs": [],
   "source": [
    "inputt = torch.tensor([0.6,0.4]).to(device)\n",
    "y_true = torch.tensor([1.,0.]).to(device)"
   ]
  },
  {
   "cell_type": "code",
   "execution_count": 168,
   "id": "03b1e679",
   "metadata": {},
   "outputs": [
    {
     "name": "stdout",
     "output_type": "stream",
     "text": [
      "loss given by Cross entropy 0.37383678555488586, by BCELoss 0.7981650233268738\n"
     ]
    }
   ],
   "source": [
    "print(f'loss given by Cross entropy {Loss(inputt,y_true)}, by BCELoss {Loss2(inputt,y_true)}')"
   ]
  },
  {
   "cell_type": "code",
   "execution_count": 169,
   "id": "0f294da4",
   "metadata": {},
   "outputs": [],
   "source": [
    "Y_true =0"
   ]
  },
  {
   "cell_type": "code",
   "execution_count": 170,
   "id": "da57df59",
   "metadata": {},
   "outputs": [
    {
     "data": {
      "text/plain": [
       "tensor(0.)"
      ]
     },
     "execution_count": 170,
     "metadata": {},
     "output_type": "execute_result"
    }
   ],
   "source": [
    "-class_weights[Y_true]*Y_true*torch.log(inputt[Y_true])"
   ]
  },
  {
   "cell_type": "code",
   "execution_count": 171,
   "id": "43e9d31a",
   "metadata": {},
   "outputs": [
    {
     "data": {
      "text/plain": [
       "tensor(0.4460)"
      ]
     },
     "execution_count": 171,
     "metadata": {},
     "output_type": "execute_result"
    }
   ],
   "source": [
    "-class_weights[Y_true]*(1.-Y_true)*torch.log(1.-inputt).mean()"
   ]
  },
  {
   "cell_type": "markdown",
   "id": "0b63ac86",
   "metadata": {},
   "source": [
    "When we compare the result given by the built in function to our costomize function, we can't get what the built in function is doing.  "
   ]
  },
  {
   "cell_type": "code",
   "execution_count": 175,
   "id": "7332be27",
   "metadata": {},
   "outputs": [],
   "source": [
    "def weighted_binary_cross_entropy(output, target, weights=None):\n",
    "        \n",
    "    if weights is not None:\n",
    "        assert len(weights) == 2\n",
    "        \n",
    "        loss = weights[1] * (target * torch.log(output)) + \\\n",
    "               weights[0] * ((1 - target) * torch.log(1 - output))\n",
    "    else:\n",
    "        loss = target * torch.log(output) + (1 - target) * torch.log(1 - output)\n",
    "\n",
    "    return torch.neg(torch.mean(loss))"
   ]
  },
  {
   "cell_type": "code",
   "execution_count": 176,
   "id": "20de1078",
   "metadata": {},
   "outputs": [],
   "source": [
    "weights = [10/(2*8),10/(4)]\n",
    "class_weights = torch.FloatTensor(weights).to(device)\n",
    "inputt = torch.tensor([0.6,0.4]).to(device)\n",
    "y_true = torch.tensor(1).to(device)"
   ]
  },
  {
   "cell_type": "code",
   "execution_count": 177,
   "id": "a1d41ba8",
   "metadata": {},
   "outputs": [
    {
     "data": {
      "text/plain": [
       "tensor(2.2907)"
      ]
     },
     "execution_count": 177,
     "metadata": {},
     "output_type": "execute_result"
    }
   ],
   "source": [
    "weighted_binary_cross_entropy(inputt[1], y_true, weights=class_weights)"
   ]
  },
  {
   "cell_type": "code",
   "execution_count": 178,
   "id": "58a1e6d2",
   "metadata": {},
   "outputs": [],
   "source": [
    "weights = [10/(2*8),10/(4)]\n",
    "class_weights = torch.FloatTensor(weights).to(device)\n",
    "inputt = torch.tensor([0.6,0.4],requires_grad=True).to(device)\n",
    "y_true = torch.tensor(1).to(device)"
   ]
  },
  {
   "cell_type": "code",
   "execution_count": 179,
   "id": "57c91b17",
   "metadata": {},
   "outputs": [
    {
     "data": {
      "text/plain": [
       "tensor(2.2907, grad_fn=<NegBackward0>)"
      ]
     },
     "execution_count": 179,
     "metadata": {},
     "output_type": "execute_result"
    }
   ],
   "source": [
    "weighted_binary_cross_entropy(inputt[1], y_true, weights=class_weights)"
   ]
  },
  {
   "cell_type": "code",
   "execution_count": null,
   "id": "4edb787c",
   "metadata": {},
   "outputs": [],
   "source": []
  }
 ],
 "metadata": {
  "kernelspec": {
   "display_name": "Python 3",
   "language": "python",
   "name": "python3"
  },
  "language_info": {
   "codemirror_mode": {
    "name": "ipython",
    "version": 3
   },
   "file_extension": ".py",
   "mimetype": "text/x-python",
   "name": "python",
   "nbconvert_exporter": "python",
   "pygments_lexer": "ipython3",
   "version": "3.9.13"
  }
 },
 "nbformat": 4,
 "nbformat_minor": 5
}
