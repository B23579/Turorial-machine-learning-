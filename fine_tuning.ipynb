{
 "cells": [
  {
   "cell_type": "code",
   "execution_count": null,
   "metadata": {},
   "outputs": [],
   "source": []
  },
  {
   "attachments": {},
   "cell_type": "markdown",
   "metadata": {},
   "source": [
    "Aujourd'hui, j'ai eu une discussion avec un étudiant qui se lance dans le domaine de l'apprentissage automatique. Il souhaite réaliser le fine-tuning d'un modèle de conversion de la parole en texte en utilisant les données que nous avons collectées dans le cadre du projet Sueza (une description du projet est disponible).\n",
    "\n",
    "L'étudiant se demandait pourquoi il était préférable d'opter pour le fine-tuning des modèles pré-entraînés plutôt que de créer un modèle à partir de zéro, étant donné que des ajustements de poids seraient nécessaires dans les deux cas.\n",
    "\n",
    "Pour l'aider à saisir cette problématique, j'ai utilisé une analogie. J'ai posé la question suivante : \"Si tu devais enseigner à un élève de CM2 à dériver une fonction, par où commenceriez-vous et combien de temps cela prendrait-il ?\"\n",
    "\n",
    "L'étudiant a répondu qu'il commencerait par enseigner les opérateurs mathématiques, suivi des opérations sur les fonctions, car il serait essentiel d'acquérir ces bases de manière progressive. Il a également souligné que cela demanderait beaucoup de temps, car l'élève devrait assimiler chaque concept de manière séquentielle.\n",
    "\n",
    "J'ai ensuite demandé combien de temps cela prendrait si l'élève était en classe de seconde, étant donné qu'il aurait déjà acquis les notions de base en mathématiques pour comprendre les fonctions. L'étudiant a estimé qu'un mois serait suffisant, car l'élève aurait déjà une connaissance des nombres et des opérations mathématiques de base, ce qui faciliterait l'apprentissage des fonctions.\n",
    "\n",
    "Je lui es dit qu'il avait déjà la réponse à sa question concernant le fine-tuning. Je lui est fait remarquer que le modèle pré-entraîné était capable de reconnaître des formes, des lettres et d'autres éléments, ce qui lui conférait un avantage pour apprendre des concepts plus complexes dans cet espace. En revanche, si l'on partait d'un modèle à construire à partir de zéro, comme l'élève de CM2, non seulement cela prendrait plus de temps pour le former, mais il aurait également besoin de plus de données. Sinon, le modèle risquerait de mémoriser plutôt que d'apprendre, ce qui pourrait entraîner un phénomène de surajustement (overfitting). Cette explication avait donc pour but de souligner l'efficacité du fine-tuning par rapport à la création d'un modèle à partir de zéro, en utilisant les connaissances préalablement acquises par le modèle pré-entraîné."
   ]
  },
  {
   "attachments": {},
   "cell_type": "markdown",
   "metadata": {},
   "source": [
    "## Entrainner un model de regression linear definit par $y=ax$"
   ]
  },
  {
   "cell_type": "code",
   "execution_count": 83,
   "metadata": {},
   "outputs": [],
   "source": [
    "import numpy as np\n",
    "import matplotlib.pyplot as plt\n",
    "import time\n",
    "\n",
    "from colorama import Fore, Back, Style"
   ]
  },
  {
   "cell_type": "code",
   "execution_count": 75,
   "metadata": {},
   "outputs": [],
   "source": [
    "class model():\n",
    "    def __init__(self, lr):\n",
    "        self.weight = np.random.randn(1)# initialize the weight with random number \n",
    "        self.lr = lr\n",
    "        self.loss = 0\n",
    "        print(f\"Weight is {self.weight}\")\n",
    "\n",
    "    def forward(self,x)->np.array:\n",
    "        return x*self.weight\n",
    "    \n",
    "    def getweight(self)->np.float16:\n",
    "        return self.weight[0]\n",
    "    \n",
    "    def MSE(self,x,y)-> np.float16:\n",
    "        self.loss += (x*(self.forward(x) - y).T).mean()\n",
    "        return self.loss\n",
    "    \n",
    "    def zerograd(self)->None:\n",
    "        self.loss = 0\n",
    "\n",
    "    def update_model(self)->None:\n",
    "        self.weight = self.weight-self.lr*self.loss"
   ]
  },
  {
   "cell_type": "code",
   "execution_count": 76,
   "metadata": {},
   "outputs": [
    {
     "name": "stdout",
     "output_type": "stream",
     "text": [
      "[-1.84735974]\n",
      "[0.58748589]\n",
      "[0.14796749]\n",
      "[-0.6639931]\n",
      "[1.61678111]\n",
      "[0.55350036]\n",
      "[-0.44343044]\n",
      "[0.98492122]\n",
      "[2.32183864]\n",
      "[0.45571089]\n"
     ]
    }
   ],
   "source": [
    "# each time we calle np.random.randn(1) we start with different value\n",
    "for i in range(10):\n",
    "    print(np.random.randn(1))"
   ]
  },
  {
   "attachments": {},
   "cell_type": "markdown",
   "metadata": {},
   "source": [
    "Our dataset for the training: "
   ]
  },
  {
   "cell_type": "code",
   "execution_count": 77,
   "metadata": {},
   "outputs": [],
   "source": [
    "x = np.array([1,2,3,10,9,11])\n",
    "y = np.array([2,4,6,20,18,22])"
   ]
  },
  {
   "cell_type": "code",
   "execution_count": 78,
   "metadata": {},
   "outputs": [
    {
     "name": "stdout",
     "output_type": "stream",
     "text": [
      "Weight is [0.64223291]\n"
     ]
    }
   ],
   "source": [
    "lr = 0.001\n",
    "net= model(lr)"
   ]
  },
  {
   "cell_type": "code",
   "execution_count": 79,
   "metadata": {},
   "outputs": [
    {
     "data": {
      "text/plain": [
       "array([0.64223291, 1.28446583, 1.92669874, 6.42232914, 5.78009623,\n",
       "       7.06456206])"
      ]
     },
     "execution_count": 79,
     "metadata": {},
     "output_type": "execute_result"
    }
   ],
   "source": [
    "net.forward(x)"
   ]
  },
  {
   "cell_type": "code",
   "execution_count": 84,
   "metadata": {},
   "outputs": [
    {
     "name": "stdout",
     "output_type": "stream",
     "text": [
      "Weight is [0.36407681]\n",
      "la valeur predite est : f(11)=4.00484486506932\n",
      "epoch= 10, erreur=22.659, poids=0.867068\n",
      "epoch= 20, erreur=15.064, poids=1.246790\n",
      "epoch= 30, erreur=10.015, poids=1.499241\n",
      "epoch= 40, erreur=6.658, poids=1.667079\n",
      "epoch= 50, erreur=4.427, poids=1.778663\n",
      "epoch= 60, erreur=2.943, poids=1.852848\n",
      "epoch= 70, erreur=1.957, poids=1.902169\n",
      "epoch= 80, erreur=1.301, poids=1.934959\n",
      "epoch= 90, erreur=0.865, poids=1.956758\n",
      "epoch= 100, erreur=0.575, poids=1.971252\n",
      "epoch= 110, erreur=0.382, poids=1.980887\n",
      "epoch= 120, erreur=0.254, poids=1.987293\n",
      "epoch= 130, erreur=0.169, poids=1.991552\n",
      "epoch= 140, erreur=0.112, poids=1.994384\n",
      "epoch= 150, erreur=0.075, poids=1.996266\n",
      "epoch= 160, erreur=0.050, poids=1.997518\n",
      "epoch= 170, erreur=0.033, poids=1.998350\n",
      "epoch= 180, erreur=0.022, poids=1.998903\n",
      "epoch= 190, erreur=0.015, poids=1.999270\n",
      "epoch= 200, erreur=0.010, poids=1.999515\n",
      "52.9\n",
      "\u001b[31mtrain time is 0.010912179946899414\n",
      "la valeur predite est : f(11)=21.995\n"
     ]
    },
    {
     "data": {
      "text/plain": [
       "[<matplotlib.lines.Line2D at 0x7f1d79247790>]"
      ]
     },
     "execution_count": 84,
     "metadata": {},
     "output_type": "execute_result"
    },
    {
     "data": {
      "image/png": "[encoded data removed]",
      "text/plain": [
       "<Figure size 640x480 with 1 Axes>"
      ]
     },
     "metadata": {},
     "output_type": "display_data"
    }
   ],
   "source": [
    "x = np.array([1,2,3,4,5,6,7])\n",
    "y = np.array([2,4,6,8,10,12,14])\n",
    "N_epoch = 200\n",
    "learning_rate = 0.002\n",
    "lr = learning_rate\n",
    "net= model(lr)\n",
    "\n",
    "los = np.array([])\n",
    "\n",
    "\n",
    "start = time.time()\n",
    "\n",
    "print(f'la valeur predite est : f(11)={net.forward(11)[0]}')\n",
    "for epoch in range(N_epoch):\n",
    "    \n",
    "    w = net.getweight()\n",
    "    l_w = -net.MSE(x,y)\n",
    "    los=np.append(los,l_w)\n",
    "    net.update_model()\n",
    "    net.zerograd()\n",
    "  \n",
    "    if (epoch+1)%10 == 0:\n",
    "        \n",
    "        print(f'epoch= {epoch+1}, erreur={ l_w:.3f}, poids={w:f}')\n",
    "\n",
    "print(23*2.3)\n",
    "\n",
    "end = time.time()\n",
    "print(Fore.RED +f'train time is {end - start}')\n",
    "\n",
    "\n",
    "print(f'la valeur predite est : f(11)={net.forward(11)[0]:.3f}')\n",
    "plt.plot(range(len(los)),los,'r-o',label='loss function')\n",
    "plt.show()"
   ]
  },
  {
   "cell_type": "code",
   "execution_count": 56,
   "metadata": {},
   "outputs": [
    {
     "data": {
      "text/plain": [
       "4.0"
      ]
     },
     "execution_count": 56,
     "metadata": {},
     "output_type": "execute_result"
    }
   ],
   "source": []
  },
  {
   "attachments": {},
   "cell_type": "markdown",
   "metadata": {},
   "source": [
    "# Entrainons le model partant de model entrainer precedant"
   ]
  },
  {
   "cell_type": "code",
   "execution_count": 85,
   "metadata": {},
   "outputs": [
    {
     "name": "stdout",
     "output_type": "stream",
     "text": [
      "la valeur predite est : f(11)=21.994878440730936\n",
      "epoch= 10, erreur=0.006, poids=1.999678\n",
      "epoch= 20, erreur=0.004, poids=1.999786\n",
      "epoch= 30, erreur=0.003, poids=1.999857\n",
      "epoch= 40, erreur=0.002, poids=1.999905\n",
      "epoch= 50, erreur=0.001, poids=1.999937\n",
      "epoch= 60, erreur=0.001, poids=1.999958\n",
      "epoch= 70, erreur=0.001, poids=1.999972\n",
      "epoch= 80, erreur=0.000, poids=1.999981\n",
      "epoch= 90, erreur=0.000, poids=1.999988\n",
      "epoch= 100, erreur=0.000, poids=1.999992\n",
      "epoch= 110, erreur=0.000, poids=1.999995\n",
      "epoch= 120, erreur=0.000, poids=1.999996\n",
      "epoch= 130, erreur=0.000, poids=1.999998\n",
      "epoch= 140, erreur=0.000, poids=1.999998\n",
      "epoch= 150, erreur=0.000, poids=1.999999\n",
      "epoch= 160, erreur=0.000, poids=1.999999\n",
      "epoch= 170, erreur=0.000, poids=2.000000\n",
      "epoch= 180, erreur=0.000, poids=2.000000\n",
      "epoch= 190, erreur=0.000, poids=2.000000\n",
      "epoch= 200, erreur=0.000, poids=2.000000\n",
      "52.9\n",
      "\u001b[31mtrain time is 0.011882543563842773\n",
      "la valeur predite est : f(11)=22.000\n"
     ]
    },
    {
     "data": {
      "text/plain": [
       "[<matplotlib.lines.Line2D at 0x7f1d79233c70>]"
      ]
     },
     "execution_count": 85,
     "metadata": {},
     "output_type": "execute_result"
    },
    {
     "data": {
      "image/png": "[encoded data removed]",
      "text/plain": [
       "<Figure size 640x480 with 1 Axes>"
      ]
     },
     "metadata": {},
     "output_type": "display_data"
    }
   ],
   "source": [
    "x = np.array([1,2,3,4,5,6,7])\n",
    "y = np.array([2,4,6,8,10,12,14])\n",
    "N_epoch = 200\n",
    "learning_rate = 0.002\n",
    "lr = learning_rate\n",
    "\n",
    "los = np.array([])\n",
    "\n",
    "\n",
    "start = time.time()\n",
    "\n",
    "print(f'la valeur predite est : f(11)={net.forward(11)[0]}')\n",
    "for epoch in range(N_epoch):\n",
    "    \n",
    "    w = net.getweight()\n",
    "    l_w = -net.MSE(x,y)\n",
    "    los=np.append(los,l_w)\n",
    "    net.update_model()\n",
    "    net.zerograd()\n",
    "  \n",
    "    if (epoch+1)%10 == 0:\n",
    "        \n",
    "        print(f'epoch= {epoch+1}, erreur={ l_w:.3f}, poids={w:f}')\n",
    "\n",
    "print(23*2.3)\n",
    "\n",
    "end = time.time()\n",
    "print(Fore.RED +f'train time is {end - start}')\n",
    "\n",
    "\n",
    "print(f'la valeur predite est : f(11)={net.forward(11)[0]:.3f}')\n",
    "plt.plot(range(len(los)),los,'r-o',label='loss function')"
   ]
  },
  {
   "attachments": {},
   "cell_type": "markdown",
   "metadata": {},
   "source": [
    "on constate que le model atteint le point de convergence apres 170 epoch en utilisant le fine tuning. essayons d'entrainer le model pour 370 epoch pour voir le comportement. "
   ]
  },
  {
   "cell_type": "code",
   "execution_count": 89,
   "metadata": {},
   "outputs": [
    {
     "name": "stdout",
     "output_type": "stream",
     "text": [
      "Weight is [-0.73045636]\n",
      "la valeur predite est : f(11)=-8.035019989242317\n",
      "epoch= 10, erreur=37.819, poids=0.109066\n",
      "epoch= 20, erreur=25.143, poids=0.742845\n",
      "epoch= 30, erreur=16.716, poids=1.164203\n",
      "epoch= 40, erreur=11.113, poids=1.444335\n",
      "epoch= 50, erreur=7.388, poids=1.630576\n",
      "epoch= 60, erreur=4.912, poids=1.754395\n",
      "epoch= 70, erreur=3.266, poids=1.836713\n",
      "epoch= 80, erreur=2.171, poids=1.891442\n",
      "epoch= 90, erreur=1.443, poids=1.927827\n",
      "epoch= 100, erreur=0.960, poids=1.952017\n",
      "epoch= 110, erreur=0.638, poids=1.968099\n",
      "epoch= 120, erreur=0.424, poids=1.978791\n",
      "epoch= 130, erreur=0.282, poids=1.985900\n",
      "epoch= 140, erreur=0.187, poids=1.990626\n",
      "epoch= 150, erreur=0.125, poids=1.993768\n",
      "epoch= 160, erreur=0.083, poids=1.995857\n",
      "epoch= 170, erreur=0.055, poids=1.997245\n",
      "epoch= 180, erreur=0.037, poids=1.998169\n",
      "epoch= 190, erreur=0.024, poids=1.998782\n",
      "epoch= 200, erreur=0.016, poids=1.999191\n",
      "epoch= 210, erreur=0.011, poids=1.999462\n",
      "epoch= 220, erreur=0.007, poids=1.999642\n",
      "epoch= 230, erreur=0.005, poids=1.999762\n",
      "epoch= 240, erreur=0.003, poids=1.999842\n",
      "epoch= 250, erreur=0.002, poids=1.999895\n",
      "epoch= 260, erreur=0.001, poids=1.999930\n",
      "epoch= 270, erreur=0.001, poids=1.999954\n",
      "epoch= 280, erreur=0.001, poids=1.999969\n",
      "epoch= 290, erreur=0.000, poids=1.999979\n",
      "epoch= 300, erreur=0.000, poids=1.999986\n",
      "epoch= 310, erreur=0.000, poids=1.999991\n",
      "epoch= 320, erreur=0.000, poids=1.999994\n",
      "epoch= 330, erreur=0.000, poids=1.999996\n",
      "epoch= 340, erreur=0.000, poids=1.999997\n",
      "epoch= 350, erreur=0.000, poids=1.999998\n",
      "epoch= 360, erreur=0.000, poids=1.999999\n",
      "epoch= 370, erreur=0.000, poids=1.999999\n",
      "52.9\n",
      "\u001b[31mtrain time is 0.0196075439453125\n",
      "la valeur predite est : f(11)=22.000\n"
     ]
    },
    {
     "data": {
      "text/plain": [
       "[<matplotlib.lines.Line2D at 0x7f1d79037b50>]"
      ]
     },
     "execution_count": 89,
     "metadata": {},
     "output_type": "execute_result"
    },
    {
     "data": {
      "image/png": "[encoded data removed]",
      "text/plain": [
       "<Figure size 640x480 with 1 Axes>"
      ]
     },
     "metadata": {},
     "output_type": "display_data"
    }
   ],
   "source": [
    "x = np.array([1,2,3,4,5,6,7])\n",
    "y = np.array([2,4,6,8,10,12,14])\n",
    "N_epoch = 370\n",
    "learning_rate = 0.002\n",
    "lr = learning_rate\n",
    "net= model(lr)\n",
    "\n",
    "los = np.array([])\n",
    "\n",
    "\n",
    "start = time.time()\n",
    "\n",
    "print(f'la valeur predite est : f(11)={net.forward(11)[0]}')\n",
    "for epoch in range(N_epoch):\n",
    "    \n",
    "    w = net.getweight()\n",
    "    l_w = -net.MSE(x,y)\n",
    "    los=np.append(los,l_w)\n",
    "    net.update_model()\n",
    "    net.zerograd()\n",
    "  \n",
    "    if (epoch+1)%10 == 0:\n",
    "        \n",
    "        print(f'epoch= {epoch+1}, erreur={ l_w:.3f}, poids={w:f}')\n",
    "\n",
    "print(23*2.3)\n",
    "\n",
    "end = time.time()\n",
    "print(Fore.RED +f'train time is {end - start}')\n",
    "\n",
    "\n",
    "print(f'la valeur predite est : f(11)={net.forward(11)[0]:.3f}')\n",
    "plt.plot(range(len(los)),los,'r-o',label='loss function')"
   ]
  },
  {
   "cell_type": "code",
   "execution_count": null,
   "metadata": {},
   "outputs": [],
   "source": []
  }
 ],
 "metadata": {
  "kernelspec": {
   "display_name": "tf-gpu",
   "language": "python",
   "name": "python3"
  },
  "language_info": {
   "codemirror_mode": {
    "name": "ipython",
    "version": 3
   },
   "file_extension": ".py",
   "mimetype": "text/x-python",
   "name": "python",
   "nbconvert_exporter": "python",
   "pygments_lexer": "ipython3",
   "version": "3.9.15"
  },
  "orig_nbformat": 4
 },
 "nbformat": 4,
 "nbformat_minor": 2
}
