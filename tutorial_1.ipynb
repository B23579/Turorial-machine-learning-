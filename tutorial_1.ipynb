{
 "cells": [
  {
   "cell_type": "code",
   "execution_count": 78,
   "metadata": {},
   "outputs": [],
   "source": [
    "import numpy as np"
   ]
  },
  {
   "cell_type": "code",
   "execution_count": 79,
   "metadata": {},
   "outputs": [],
   "source": [
    "x = np.array([1,2,3])\n",
    "w = np.array([2,4,6])\n"
   ]
  },
  {
   "cell_type": "code",
   "execution_count": 80,
   "metadata": {},
   "outputs": [
    {
     "data": {
      "text/plain": [
       "28"
      ]
     },
     "execution_count": 80,
     "metadata": {},
     "output_type": "execute_result"
    }
   ],
   "source": [
    "np.dot(x,w) "
   ]
  },
  {
   "cell_type": "code",
   "execution_count": 81,
   "metadata": {},
   "outputs": [
    {
     "data": {
      "text/plain": [
       "28"
      ]
     },
     "execution_count": 81,
     "metadata": {},
     "output_type": "execute_result"
    }
   ],
   "source": [
    "1*2+2*4+3*6 "
   ]
  },
  {
   "cell_type": "code",
   "execution_count": 82,
   "metadata": {},
   "outputs": [
    {
     "data": {
      "text/plain": [
       "array([ 2,  8, 18])"
      ]
     },
     "execution_count": 82,
     "metadata": {},
     "output_type": "execute_result"
    }
   ],
   "source": [
    "x*w.T"
   ]
  },
  {
   "cell_type": "code",
   "execution_count": 83,
   "metadata": {},
   "outputs": [],
   "source": [
    "x = np.array([1,2,3])\n",
    "y = np.array([2,4,6])\n",
    "w=1.5\n",
    "y_pred = x*w"
   ]
  },
  {
   "cell_type": "code",
   "execution_count": 84,
   "metadata": {},
   "outputs": [
    {
     "data": {
      "text/plain": [
       "array([1.5, 3. , 4.5])"
      ]
     },
     "execution_count": 84,
     "metadata": {},
     "output_type": "execute_result"
    }
   ],
   "source": [
    "y_pred"
   ]
  },
  {
   "cell_type": "code",
   "execution_count": 85,
   "metadata": {},
   "outputs": [
    {
     "data": {
      "text/plain": [
       "array([-0.5, -2. , -4.5])"
      ]
     },
     "execution_count": 85,
     "metadata": {},
     "output_type": "execute_result"
    }
   ],
   "source": [
    "L_w = x*(y_pred - y).T # this use o compute the error. \n",
    "L_w\n"
   ]
  },
  {
   "cell_type": "code",
   "execution_count": 86,
   "metadata": {},
   "outputs": [],
   "source": [
    "L_w = (x*(y_pred - y).T).mean() # this is used to compute the mean error\n",
    "learning_rate = 0.001"
   ]
  },
  {
   "cell_type": "code",
   "execution_count": 87,
   "metadata": {},
   "outputs": [
    {
     "data": {
      "text/plain": [
       "1.5023333333333333"
      ]
     },
     "execution_count": 87,
     "metadata": {},
     "output_type": "execute_result"
    }
   ],
   "source": [
    "lr = learning_rate\n",
    "w = w-lr*L_w # this is used to update the weight \n",
    "w"
   ]
  },
  {
   "cell_type": "code",
   "execution_count": 88,
   "metadata": {},
   "outputs": [],
   "source": [
    "w=1"
   ]
  },
  {
   "cell_type": "markdown",
   "metadata": {},
   "source": [
    "# small code\n"
   ]
  },
  {
   "cell_type": "code",
   "execution_count": 89,
   "metadata": {},
   "outputs": [
    {
     "name": "stdout",
     "output_type": "stream",
     "text": [
      "1.0046666666666666\n"
     ]
    }
   ],
   "source": [
    "# you should run this code more than 5 times to observe the change of w. \n",
    "# repeat the same experiment by changing the value of the learning rate (e.g 0.001, 0.4,0.08)\n",
    "# what happend?  \n",
    "x = np.array([1,2,3])\n",
    "y = np.array([2,4,6])\n",
    "\n",
    "y_pred = x*w\n",
    "L_w = (x*(y_pred - y).T).mean()\n",
    "learning_rate = 0.001\n",
    "lr = learning_rate\n",
    "w = w-lr*L_w\n",
    "print(w)"
   ]
  },
  {
   "cell_type": "code",
   "execution_count": 90,
   "metadata": {},
   "outputs": [
    {
     "name": "stdout",
     "output_type": "stream",
     "text": [
      "epoch= 0, erreur=4.666667, poids=1.233333\n",
      "epoch= 1, erreur=3.577778, poids=1.412222\n",
      "epoch= 2, erreur=2.742963, poids=1.549370\n",
      "epoch= 3, erreur=2.102938, poids=1.654517\n",
      "epoch= 4, erreur=1.612253, poids=1.735130\n",
      "epoch= 5, erreur=1.236060, poids=1.796933\n",
      "epoch= 6, erreur=0.947646, poids=1.844315\n",
      "epoch= 7, erreur=0.726529, poids=1.880642\n",
      "epoch= 8, erreur=0.557005, poids=1.908492\n",
      "epoch= 9, erreur=0.427037, poids=1.929844\n"
     ]
    }
   ],
   "source": [
    "# the goal here is to repeat the same experiment by using the for loop in oder to observe the change of w.\n",
    "N_epoch = 10\n",
    "learning_rate = 0.05 # try many value of the learning rate to observe the overfitting\n",
    "lr = learning_rate\n",
    "w=1\n",
    "for epoch in range(N_epoch):\n",
    "    y_pred = x*w\n",
    "    L_w = (x*(y_pred - y).T).mean()\n",
    "    w = w-lr*L_w\n",
    "    print(f'epoch= {epoch}, erreur={ -L_w:3f}, poids={w:f}')\n",
    "    "
   ]
  },
  {
   "cell_type": "code",
   "execution_count": 91,
   "metadata": {},
   "outputs": [
    {
     "name": "stdout",
     "output_type": "stream",
     "text": [
      "epoch= 5, erreur=3.225, poids=1.470\n",
      "epoch= 10, erreur=0.854, poids=1.860\n",
      "epoch= 15, erreur=0.226, poids=1.963\n",
      "epoch= 20, erreur=0.060, poids=1.990\n",
      "epoch= 25, erreur=0.016, poids=1.997\n",
      "epoch= 30, erreur=0.004, poids=1.999\n",
      "epoch= 35, erreur=0.001, poids=2.000\n",
      "epoch= 40, erreur=0.000, poids=2.000\n",
      "epoch= 45, erreur=0.000, poids=2.000\n",
      "epoch= 50, erreur=0.000, poids=2.000\n",
      "epoch= 55, erreur=0.000, poids=2.000\n",
      "epoch= 60, erreur=0.000, poids=2.000\n",
      "epoch= 65, erreur=0.000, poids=2.000\n",
      "epoch= 70, erreur=0.000, poids=2.000\n",
      "epoch= 75, erreur=0.000, poids=2.000\n",
      "epoch= 80, erreur=0.000, poids=2.000\n",
      "epoch= 85, erreur=0.000, poids=2.000\n",
      "epoch= 90, erreur=0.000, poids=2.000\n",
      "epoch= 95, erreur=0.000, poids=2.000\n",
      "epoch= 100, erreur=0.000, poids=2.000\n"
     ]
    }
   ],
   "source": [
    "N_epoch = 100\n",
    "learning_rate = 0.05\n",
    "lr = learning_rate\n",
    "w=0\n",
    "for epoch in range(N_epoch):\n",
    "    y_pred = x*w\n",
    "    L_w = (x*(y_pred - y).T).mean()\n",
    "    w = w-lr*L_w\n",
    "    \n",
    "    if (epoch+1)%5 == 0:\n",
    "        \n",
    "        print(f'epoch= {epoch+1}, erreur={ -L_w:.3f}, poids={w:.3f}')\n",
    "    "
   ]
  },
  {
   "cell_type": "code",
   "execution_count": 100,
   "metadata": {},
   "outputs": [],
   "source": [
    "def net(x):\n",
    "    return x*w"
   ]
  },
  {
   "cell_type": "code",
   "execution_count": 107,
   "metadata": {},
   "outputs": [
    {
     "name": "stdout",
     "output_type": "stream",
     "text": [
      "la valeur predite est : f(11)=0\n",
      "epoch= 10, erreur=0.033, poids=1.996276\n",
      "epoch= 20, erreur=0.000, poids=1.999993\n",
      "epoch= 30, erreur=0.000, poids=2.000000\n",
      "epoch= 40, erreur=0.000, poids=2.000000\n",
      "epoch= 50, erreur=0.000, poids=2.000000\n",
      "epoch= 60, erreur=0.000, poids=2.000000\n",
      "epoch= 70, erreur=-0.000, poids=2.000000\n",
      "epoch= 80, erreur=-0.000, poids=2.000000\n",
      "epoch= 90, erreur=-0.000, poids=2.000000\n",
      "epoch= 100, erreur=-0.000, poids=2.000000\n",
      "epoch= 110, erreur=-0.000, poids=2.000000\n",
      "epoch= 120, erreur=-0.000, poids=2.000000\n",
      "epoch= 130, erreur=-0.000, poids=2.000000\n",
      "epoch= 140, erreur=-0.000, poids=2.000000\n",
      "epoch= 150, erreur=-0.000, poids=2.000000\n",
      "epoch= 160, erreur=-0.000, poids=2.000000\n",
      "epoch= 170, erreur=-0.000, poids=2.000000\n",
      "epoch= 180, erreur=-0.000, poids=2.000000\n",
      "epoch= 190, erreur=-0.000, poids=2.000000\n",
      "epoch= 200, erreur=-0.000, poids=2.000000\n",
      "la valeur predite est : f(11)=22.000\n"
     ]
    }
   ],
   "source": [
    "N_epoch = 200\n",
    "learning_rate = 0.1\n",
    "lr = learning_rate\n",
    "w=0\n",
    "x = np.array([1,2,3])\n",
    "y = np.array([2,4,6])\n",
    "\n",
    "print(f'la valeur predite est : f(11)={net(11)}')\n",
    "for epoch in range(N_epoch):\n",
    "    \n",
    "    L_w = (x*(net(x) - y).T).mean()\n",
    "    w = w-lr*L_w\n",
    "    \n",
    "    if (epoch+1)%10 == 0:\n",
    "        \n",
    "        print(f'epoch= {epoch+1}, erreur={ -L_w:.3f}, poids={w:f}')\n",
    "print(f'la valeur predite est : f(11)={net(11):.3f}')"
   ]
  },
  {
   "cell_type": "code",
   "execution_count": 94,
   "metadata": {},
   "outputs": [
    {
     "data": {
      "text/plain": [
       "5.999999981478288"
      ]
     },
     "execution_count": 94,
     "metadata": {},
     "output_type": "execute_result"
    }
   ],
   "source": [
    "net(3)"
   ]
  },
  {
   "cell_type": "code",
   "execution_count": 95,
   "metadata": {},
   "outputs": [
    {
     "data": {
      "text/plain": [
       "13.999999956782672"
      ]
     },
     "execution_count": 95,
     "metadata": {},
     "output_type": "execute_result"
    }
   ],
   "source": [
    "net(7)"
   ]
  },
  {
   "cell_type": "code",
   "execution_count": 119,
   "metadata": {},
   "outputs": [
    {
     "name": "stdout",
     "output_type": "stream",
     "text": [
      "la valeur predite est : f(11)=11\n",
      "epoch= 10, erreur=0.451, poids=1.925455\n",
      "epoch= 20, erreur=0.034, poids=1.994443\n",
      "epoch= 30, erreur=0.003, poids=1.999586\n",
      "epoch= 40, erreur=0.000, poids=1.999969\n",
      "epoch= 50, erreur=0.000, poids=1.999998\n",
      "epoch= 60, erreur=0.000, poids=2.000000\n",
      "epoch= 70, erreur=0.000, poids=2.000000\n",
      "epoch= 80, erreur=0.000, poids=2.000000\n",
      "epoch= 90, erreur=0.000, poids=2.000000\n",
      "epoch= 100, erreur=0.000, poids=2.000000\n",
      "epoch= 110, erreur=0.000, poids=2.000000\n",
      "epoch= 120, erreur=0.000, poids=2.000000\n",
      "epoch= 130, erreur=0.000, poids=2.000000\n",
      "epoch= 140, erreur=0.000, poids=2.000000\n",
      "epoch= 150, erreur=0.000, poids=2.000000\n",
      "epoch= 160, erreur=0.000, poids=2.000000\n",
      "epoch= 170, erreur=0.000, poids=2.000000\n",
      "epoch= 180, erreur=0.000, poids=2.000000\n",
      "epoch= 190, erreur=0.000, poids=2.000000\n",
      "epoch= 200, erreur=0.000, poids=2.000000\n",
      "la valeur predite est : f(11)=22.000\n"
     ]
    }
   ],
   "source": [
    "N_epoch = 200\n",
    "learning_rate = 0.049\n",
    "lr = learning_rate\n",
    "x = np.array([1,2,3])\n",
    "y = np.array([2,4,6])\n",
    "w=1\n",
    "los = np.array([])\n",
    "print(f'la valeur predite est : f(11)={net(11)}')\n",
    "for epoch in range(N_epoch):\n",
    "    \n",
    "    L_w = (x*(net(x) - y).T).mean()\n",
    "    w = w-lr*L_w\n",
    "    los=np.append(los,L_w)\n",
    "    \n",
    "    if (epoch+1)%10 == 0:\n",
    "        \n",
    "        print(f'epoch= {epoch+1}, erreur={ -L_w:.3f}, poids={w:f}')\n",
    "print(f'la valeur predite est : f(11)={net(11):.3f}')"
   ]
  },
  {
   "cell_type": "code",
   "execution_count": 120,
   "metadata": {},
   "outputs": [
    {
     "data": {
      "image/png": "[encoded data removed]",
      "text/plain": [
       "<Figure size 432x288 with 1 Axes>"
      ]
     },
     "metadata": {
      "needs_background": "light"
     },
     "output_type": "display_data"
    }
   ],
   "source": [
    "import matplotlib.pyplot as plt\n",
    "y=np.arange(1,N_epoch+1)\n",
    "plt.plot(y,-los)\n",
    "plt.show()"
   ]
  },
  {
   "cell_type": "code",
   "execution_count": 98,
   "metadata": {},
   "outputs": [],
   "source": [
    "y = np.arange(1,5)"
   ]
  },
  {
   "cell_type": "code",
   "execution_count": 99,
   "metadata": {},
   "outputs": [
    {
     "data": {
      "text/plain": [
       "array([1, 2, 3, 4])"
      ]
     },
     "execution_count": 99,
     "metadata": {},
     "output_type": "execute_result"
    }
   ],
   "source": [
    "y"
   ]
  },
  {
   "cell_type": "code",
   "execution_count": 61,
   "metadata": {},
   "outputs": [
    {
     "data": {
      "text/plain": [
       "9.999999984565239"
      ]
     },
     "execution_count": 61,
     "metadata": {},
     "output_type": "execute_result"
    }
   ],
   "source": [
    "net(5)"
   ]
  },
  {
   "cell_type": "code",
   "execution_count": 62,
   "metadata": {},
   "outputs": [
    {
     "data": {
      "text/plain": [
       "39.999999938260956"
      ]
     },
     "execution_count": 62,
     "metadata": {},
     "output_type": "execute_result"
    }
   ],
   "source": [
    "net(20)"
   ]
  },
  {
   "cell_type": "code",
   "execution_count": 63,
   "metadata": {},
   "outputs": [
    {
     "data": {
      "text/plain": [
       "199.9999996913048"
      ]
     },
     "execution_count": 63,
     "metadata": {},
     "output_type": "execute_result"
    }
   ],
   "source": [
    "net(100)"
   ]
  },
  {
   "cell_type": "code",
   "execution_count": 64,
   "metadata": {},
   "outputs": [
    {
     "name": "stdout",
     "output_type": "stream",
     "text": [
      "la valeur predite est : f(11)=0\n",
      "epoch= 10, erreur=0.403, poids=1.987907\n",
      "epoch= 20, erreur=0.002, poids=1.999927\n",
      "epoch= 30, erreur=0.000, poids=2.000000\n",
      "epoch= 40, erreur=0.000, poids=2.000000\n",
      "epoch= 50, erreur=0.000, poids=2.000000\n",
      "epoch= 60, erreur=0.000, poids=2.000000\n",
      "epoch= 70, erreur=0.000, poids=2.000000\n",
      "epoch= 80, erreur=-0.000, poids=2.000000\n",
      "epoch= 90, erreur=-0.000, poids=2.000000\n",
      "epoch= 100, erreur=-0.000, poids=2.000000\n",
      "epoch= 110, erreur=-0.000, poids=2.000000\n",
      "epoch= 120, erreur=-0.000, poids=2.000000\n",
      "epoch= 130, erreur=-0.000, poids=2.000000\n",
      "epoch= 140, erreur=-0.000, poids=2.000000\n",
      "epoch= 150, erreur=-0.000, poids=2.000000\n",
      "epoch= 160, erreur=-0.000, poids=2.000000\n",
      "epoch= 170, erreur=-0.000, poids=2.000000\n",
      "epoch= 180, erreur=-0.000, poids=2.000000\n",
      "epoch= 190, erreur=-0.000, poids=2.000000\n",
      "epoch= 200, erreur=-0.000, poids=2.000000\n",
      "la valeur predite est : f(11)=22.000\n"
     ]
    }
   ],
   "source": [
    "x = np.array([1,2,3,4,5,6,7])\n",
    "y = np.array([2,4,6,8,10,12,14])\n",
    "N_epoch = 200\n",
    "learning_rate = 0.02\n",
    "lr = learning_rate\n",
    "w=0\n",
    "los = np.array([])\n",
    "print(f'la valeur predite est : f(11)={net(11)}')\n",
    "for epoch in range(N_epoch):\n",
    "    \n",
    "    L_w = (x*(net(x) - y).T).mean()\n",
    "    w = w-lr*L_w\n",
    "    los=np.append(los,L_w)\n",
    "    \n",
    "    if (epoch+1)%10 == 0:\n",
    "        \n",
    "        print(f'epoch= {epoch+1}, erreur={ -L_w:.3f}, poids={w:f}')\n",
    "print(f'la valeur predite est : f(11)={net(11):.3f}')"
   ]
  },
  {
   "cell_type": "code",
   "execution_count": 65,
   "metadata": {},
   "outputs": [
    {
     "data": {
      "text/plain": [
       "24.0"
      ]
     },
     "execution_count": 65,
     "metadata": {},
     "output_type": "execute_result"
    }
   ],
   "source": [
    "net(12)"
   ]
  },
  {
   "cell_type": "code",
   "execution_count": 66,
   "metadata": {},
   "outputs": [
    {
     "data": {
      "text/plain": [
       "10.0"
      ]
     },
     "execution_count": 66,
     "metadata": {},
     "output_type": "execute_result"
    }
   ],
   "source": [
    "net(5)"
   ]
  },
  {
   "cell_type": "code",
   "execution_count": 123,
   "metadata": {},
   "outputs": [
    {
     "data": {
      "text/plain": [
       "200.0"
      ]
     },
     "execution_count": 123,
     "metadata": {},
     "output_type": "execute_result"
    }
   ],
   "source": [
    "net(100)"
   ]
  },
  {
   "cell_type": "code",
   "execution_count": null,
   "metadata": {},
   "outputs": [],
   "source": []
  }
 ],
 "metadata": {
  "kernelspec": {
   "display_name": "Python 3",
   "language": "python",
   "name": "python3"
  },
  "language_info": {
   "codemirror_mode": {
    "name": "ipython",
    "version": 3
   },
   "file_extension": ".py",
   "mimetype": "text/x-python",
   "name": "python",
   "nbconvert_exporter": "python",
   "pygments_lexer": "ipython3",
   "version": "3.8.5"
  }
 },
 "nbformat": 4,
 "nbformat_minor": 4
}
