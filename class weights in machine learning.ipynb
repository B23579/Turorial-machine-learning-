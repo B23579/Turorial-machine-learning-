{
 "cells": [
  {
   "cell_type": "markdown",
   "id": "ccf395bd",
   "metadata": {},
   "source": [
    "# Class imbalance and weighted classification"
   ]
  },
  {
   "cell_type": "markdown",
   "id": "881c04fa",
   "metadata": {},
   "source": [
    "Let's consider we have a classification problem where we have 10 patients classified as stroke and 2 people classified as non-stroke. There is a bias or skewness toward the majority class present in the target. The algorithm will be more bias the prediction of the majority class. **Weighted classification cost alters the behavious of the learner classifier so that it weights points in the smaller class more and points in the larger class less**"
   ]
  },
  {
   "cell_type": "code",
   "execution_count": 184,
   "id": "b04f1895",
   "metadata": {},
   "outputs": [
    {
     "name": "stdout",
     "output_type": "stream",
     "text": [
      "cpu\n"
     ]
    }
   ],
   "source": [
    "import torch \n",
    "import torch.nn as nn\n",
    "import math\n",
    "device =torch.device('cuda:0' if torch.cuda.is_available() else 'cpu')\n",
    "print(device)"
   ]
  },
  {
   "cell_type": "markdown",
   "id": "0015720a",
   "metadata": {},
   "source": [
    "# Weighted classification definition "
   ]
  },
  {
   "cell_type": "markdown",
   "id": "bafa8d57",
   "metadata": {},
   "source": [
    "\n",
    "Class weights :\n",
    "\n",
    "**w0** = $\\frac{10}{8\\times 2}=0.625$ where 2 is the number of class (0 and 1), 8 number of non stroke\n",
    "\n",
    "**w1** = $\\frac{10}{2\\times 2}=2.5$ where 2 is the number of class (0 and 1)\n",
    "\n",
    "\n",
    "The loss function without weights is given by: \n",
    "\n",
    "$Log loss = -\\frac{1}{N} \\sum_i^N y_i \\log(\\hat{y_i}) + (1 - y_i) \\log(1-\\hat{y_i})$ \n",
    "\n",
    "and with the weights by:  \n",
    "\n",
    "$Log loss = -\\frac{1}{N} \\sum_i^N w_1\\times y_i \\log(\\hat{y_i}) + w_0 \\times (1 - y_i) \\log(1-\\hat{y_i})$ \n",
    "\n"
   ]
  },
  {
   "cell_type": "code",
   "execution_count": 185,
   "id": "863a6e15",
   "metadata": {},
   "outputs": [],
   "source": [
    "weights = [10/(2*8),10/(4)]"
   ]
  },
  {
   "cell_type": "code",
   "execution_count": 186,
   "id": "fdde9e4d",
   "metadata": {},
   "outputs": [
    {
     "data": {
      "text/plain": [
       "tensor([0.6250, 2.5000])"
      ]
     },
     "execution_count": 186,
     "metadata": {},
     "output_type": "execute_result"
    }
   ],
   "source": [
    "class_weights = torch.FloatTensor(weights).to(device)\n",
    "class_weights"
   ]
  },
  {
   "cell_type": "markdown",
   "id": "ee426507",
   "metadata": {},
   "source": [
    "# pytorch built-in fucntion issue with weighted classification"
   ]
  },
  {
   "cell_type": "code",
   "execution_count": 187,
   "id": "3312e9aa",
   "metadata": {},
   "outputs": [],
   "source": [
    "Loss = nn.CrossEntropyLoss(weight=class_weights)\n",
    "Loss2=nn.BCELoss(weight=class_weights)"
   ]
  },
  {
   "cell_type": "code",
   "execution_count": 188,
   "id": "1a926f83",
   "metadata": {},
   "outputs": [],
   "source": [
    "inputt = torch.tensor([0.6,0.4]).to(device)\n",
    "y_true = torch.tensor([1.,0.]).to(device)"
   ]
  },
  {
   "cell_type": "code",
   "execution_count": 189,
   "id": "6c47bbb4",
   "metadata": {},
   "outputs": [
    {
     "name": "stdout",
     "output_type": "stream",
     "text": [
      "loss given by Cross entropy 0.37383678555488586, by BCELoss 0.7981650233268738\n"
     ]
    }
   ],
   "source": [
    "print(f'loss given by Cross entropy {Loss(inputt,y_true)}, by BCELoss {Loss2(inputt,y_true)}')"
   ]
  },
  {
   "cell_type": "code",
   "execution_count": 190,
   "id": "8c5f5fd5",
   "metadata": {},
   "outputs": [],
   "source": [
    "Y_true =0"
   ]
  },
  {
   "cell_type": "code",
   "execution_count": 191,
   "id": "6d99a754",
   "metadata": {},
   "outputs": [
    {
     "data": {
      "text/plain": [
       "tensor(0.)"
      ]
     },
     "execution_count": 191,
     "metadata": {},
     "output_type": "execute_result"
    }
   ],
   "source": [
    "-class_weights[Y_true]*Y_true*torch.log(inputt[Y_true])"
   ]
  },
  {
   "cell_type": "code",
   "execution_count": 192,
   "id": "294ed8ee",
   "metadata": {},
   "outputs": [
    {
     "data": {
      "text/plain": [
       "tensor(0.4460)"
      ]
     },
     "execution_count": 192,
     "metadata": {},
     "output_type": "execute_result"
    }
   ],
   "source": [
    "-class_weights[Y_true]*(1.-Y_true)*torch.log(1.-inputt).mean()"
   ]
  },
  {
   "cell_type": "markdown",
   "id": "c623e964",
   "metadata": {},
   "source": [
    "When we compare the result given by the built-in function to our customized function, we can't get what the built-in function is doing. This is an issue, so we will then customise our own loss function. "
   ]
  },
  {
   "cell_type": "markdown",
   "id": "e515a49e",
   "metadata": {},
   "source": [
    "# Customized weighted class function"
   ]
  },
  {
   "cell_type": "code",
   "execution_count": 193,
   "id": "f44d24f7",
   "metadata": {},
   "outputs": [],
   "source": [
    "def weighted_binary_cross_entropy(output, target, weights=None):\n",
    "        \n",
    "    if weights is not None:\n",
    "        assert len(weights) == 2\n",
    "        \n",
    "        loss = weights[1] * (target * torch.log(output)) + \\\n",
    "               weights[0] * ((1 - target) * torch.log(1 - output))\n",
    "    else:\n",
    "        loss = target * torch.log(output) + (1 - target) * torch.log(1 - output)\n",
    "\n",
    "    return torch.neg(torch.mean(loss))"
   ]
  },
  {
   "cell_type": "code",
   "execution_count": 194,
   "id": "a6e5be80",
   "metadata": {},
   "outputs": [],
   "source": [
    "weights = [10/(2*8),10/(4)]\n",
    "class_weights = torch.FloatTensor(weights).to(device)\n",
    "inputt = torch.tensor([0.6,0.4]).to(device)\n",
    "y_true = torch.tensor(1).to(device)"
   ]
  },
  {
   "cell_type": "code",
   "execution_count": 195,
   "id": "03b7aab6",
   "metadata": {},
   "outputs": [
    {
     "data": {
      "text/plain": [
       "tensor(2.2907)"
      ]
     },
     "execution_count": 195,
     "metadata": {},
     "output_type": "execute_result"
    }
   ],
   "source": [
    "weighted_binary_cross_entropy(inputt[1], y_true, weights=class_weights)"
   ]
  },
  {
   "cell_type": "code",
   "execution_count": 196,
   "id": "d755c796",
   "metadata": {},
   "outputs": [],
   "source": [
    "weights = [10/(2*8),10/(4)]\n",
    "class_weights = torch.FloatTensor(weights).to(device)\n",
    "inputt = torch.tensor([0.6,0.4],requires_grad=True).to(device)\n",
    "y_true = torch.tensor(1).to(device)"
   ]
  },
  {
   "cell_type": "code",
   "execution_count": 197,
   "id": "2a56ccd4",
   "metadata": {},
   "outputs": [
    {
     "data": {
      "text/plain": [
       "tensor(2.2907, grad_fn=<NegBackward0>)"
      ]
     },
     "execution_count": 197,
     "metadata": {},
     "output_type": "execute_result"
    }
   ],
   "source": [
    "weighted_binary_cross_entropy(inputt[1], y_true, weights=class_weights)"
   ]
  },
  {
   "cell_type": "code",
   "execution_count": null,
   "id": "07f0750a",
   "metadata": {},
   "outputs": [],
   "source": []
  }
 ],
 "metadata": {
  "kernelspec": {
   "display_name": "Python 3",
   "language": "python",
   "name": "python3"
  },
  "language_info": {
   "codemirror_mode": {
    "name": "ipython",
    "version": 3
   },
   "file_extension": ".py",
   "mimetype": "text/x-python",
   "name": "python",
   "nbconvert_exporter": "python",
   "pygments_lexer": "ipython3",
   "version": "3.9.13"
  }
 },
 "nbformat": 4,
 "nbformat_minor": 5
}
